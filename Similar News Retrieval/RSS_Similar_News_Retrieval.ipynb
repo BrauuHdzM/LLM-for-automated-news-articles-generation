{
  "nbformat": 4,
  "nbformat_minor": 0,
  "metadata": {
    "colab": {
      "provenance": [],
      "gpuType": "T4"
    },
    "kernelspec": {
      "name": "python3",
      "display_name": "Python 3"
    },
    "language_info": {
      "name": "python"
    },
    "accelerator": "GPU"
  },
  "cells": [
    {
      "cell_type": "markdown",
      "source": [
        "### Installing all necessary dependencies"
      ],
      "metadata": {
        "id": "Dr8p3r2eUTbk"
      }
    },
    {
      "cell_type": "code",
      "source": [
        "!pip install sentence_transformers\n",
        "!pip install feedparser"
      ],
      "metadata": {
        "id": "Pw42LnKXQvsV"
      },
      "execution_count": null,
      "outputs": []
    },
    {
      "cell_type": "markdown",
      "source": [
        "### Import the dependencies"
      ],
      "metadata": {
        "id": "imh9dfR2VL1u"
      }
    },
    {
      "cell_type": "code",
      "execution_count": null,
      "metadata": {
        "id": "a98ivDfsQNTe"
      },
      "outputs": [],
      "source": [
        "import sys\n",
        "import json\n",
        "from sentence_transformers import SentenceTransformer, util\n",
        "import feedparser"
      ]
    },
    {
      "cell_type": "markdown",
      "source": [
        "### Feedparser, cosine similarity and results format"
      ],
      "metadata": {
        "id": "T8dqd6K8VQix"
      }
    },
    {
      "cell_type": "code",
      "source": [
        "def obtener_noticias_desde_fuentes(fuentes):\n",
        "    noticias_descripciones = []\n",
        "    for nombre_fuente, url_feed in fuentes:\n",
        "        noticias = feedparser.parse(url_feed)\n",
        "        for entrada in noticias.entries:\n",
        "            if \"opinion\" not in entrada.link.lower():\n",
        "                titulo = entrada.title\n",
        "                descripcion = entrada.description\n",
        "                fecha = entrada.published\n",
        "                num_palabras_descripcion = len(descripcion.split())\n",
        "\n",
        "                if num_palabras_descripcion > 5:\n",
        "                    noticias_descripciones.append((nombre_fuente, titulo, fecha, descripcion))\n",
        "    return noticias_descripciones"
      ],
      "metadata": {
        "id": "25kci4ehQ7_g"
      },
      "execution_count": 3,
      "outputs": []
    },
    {
      "cell_type": "code",
      "source": [
        "def retrieve_articles(query, news_sources):\n",
        "  embeddings1 = model.encode(query, convert_to_tensor=True)\n",
        "  embeddings2 = model.encode(news_sources, convert_to_tensor=True)\n",
        "  cosine_scores = util.cos_sim(embeddings1, embeddings2)\n",
        "\n",
        "  results = [\n",
        "          (noticias[i][0], noticias[i][1], noticias[i][2], noticias[i][3], cosine_scores[0][i].item(), i, lugar)\n",
        "          for i in range(len(noticias))\n",
        "      ]\n",
        "\n",
        "  filtered_results = [result for result in results if result[4] >= 0.60]\n",
        "  filtered_results.sort(key=lambda x: x[4], reverse=True)\n",
        "\n",
        "  return filtered_results"
      ],
      "metadata": {
        "id": "LS4ahOT5WTvp"
      },
      "execution_count": 21,
      "outputs": []
    },
    {
      "cell_type": "code",
      "source": [
        "def imprimir_articulos(lista):\n",
        "    for idx, (fuente, titulo, fecha, descripcion, score, visitas, pais) in enumerate(lista, start=1):\n",
        "        print(f\"Article ID: {idx}:\")\n",
        "        print(f\"  Source: {fuente}\")\n",
        "        print(f\"  Title: {titulo}\")\n",
        "        print(f\"  Date: {fecha}\")\n",
        "        print(f\"  Description: {descripcion}\")\n",
        "        print(f\"  Cosine Similarity: {score}\")\n",
        "        print(f\"  Place: {pais}\")\n",
        "        print(\"=\"*80)"
      ],
      "metadata": {
        "id": "FMkB6oUySg8y"
      },
      "execution_count": 18,
      "outputs": []
    },
    {
      "cell_type": "markdown",
      "source": [
        "### Loading the Sentence Transformer model"
      ],
      "metadata": {
        "id": "tH-KfRhDVp4v"
      }
    },
    {
      "cell_type": "code",
      "source": [
        "model = SentenceTransformer('paraphrase-multilingual-mpnet-base-v2')"
      ],
      "metadata": {
        "id": "VyNbh6UzRYFR"
      },
      "execution_count": null,
      "outputs": []
    },
    {
      "cell_type": "markdown",
      "source": [
        "### Search and retrieval of similar news"
      ],
      "metadata": {
        "id": "zUPx-U6qVurV"
      }
    },
    {
      "cell_type": "code",
      "source": [
        "# Put the place and the key words to search the news. This is only an example!\n",
        "lugar = \"México\"\n",
        "palabrasClave = \"Poder Judicial\"\n",
        "\n",
        "busqueda = lugar + \" \" + palabrasClave"
      ],
      "metadata": {
        "id": "IzVH1O73RBIb"
      },
      "execution_count": 5,
      "outputs": []
    },
    {
      "cell_type": "code",
      "source": [
        "# Here are all the RSS Sources (La Jornada, Reforma and Expansión)\n",
        "fuentes = [\n",
        "        (\"La Jornada\", \"https://www.jornada.com.mx/rss/edicion.xml?v=1\"),\n",
        "        (\"Reforma\", \"https://www.reforma.com/rss/portada.xml\"),\n",
        "        (\"Reforma\", \"https://www.reforma.com/rss/internacional.xml\"),\n",
        "        (\"Reforma\", \"https://www.reforma.com/rss/cancha.xml\"),\n",
        "        (\"Reforma\", \"https://www.reforma.com/rss/justicia.xml\"),\n",
        "        (\"Reforma\", \"https://www.reforma.com/rss/ciudad.xml\"),\n",
        "        (\"Reforma\", \"https://www.reforma.com/rss/negocios.xml\"),\n",
        "        (\"Reforma\", \"https://www.reforma.com/rss/estados.xml\"),\n",
        "        (\"Reforma\", \"https://www.reforma.com/rss/nacional.xml\"),\n",
        "        (\"Reforma\", \"https://www.reforma.com/rss/ciencia.xml\"),\n",
        "        (\"Expansion\", \"https://expansion.mx/rss\"),\n",
        "    ]"
      ],
      "metadata": {
        "id": "rHqJ6tAARWxm"
      },
      "execution_count": 6,
      "outputs": []
    },
    {
      "cell_type": "code",
      "source": [
        "# Obtaining all the news articles\n",
        "noticias = obtener_noticias_desde_fuentes(fuentes)"
      ],
      "metadata": {
        "id": "Y2B2kQsWRh9N"
      },
      "execution_count": 7,
      "outputs": []
    },
    {
      "cell_type": "code",
      "source": [
        "# Cosine similarity between the search and all the news articles\n",
        "sentences1 = [busqueda]\n",
        "sentences2 = [noticia[1] + \" \" + noticia[3] for noticia in noticias]\n",
        "\n",
        "# Only the articles which have a Cosine similarity > 0.60\n",
        "filtered_results = retrieve_articles(sentences1, sentences2)"
      ],
      "metadata": {
        "id": "REacwCihRnPH"
      },
      "execution_count": 22,
      "outputs": []
    },
    {
      "cell_type": "code",
      "source": [
        "# Print all the retrieval articles\n",
        "imprimir_articulos(filtered_results)"
      ],
      "metadata": {
        "id": "O82QEwOqSkcx"
      },
      "execution_count": null,
      "outputs": []
    }
  ]
}