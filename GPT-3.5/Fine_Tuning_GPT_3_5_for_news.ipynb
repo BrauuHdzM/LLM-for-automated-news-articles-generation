{
  "nbformat": 4,
  "nbformat_minor": 0,
  "metadata": {
    "colab": {
      "provenance": []
    },
    "kernelspec": {
      "name": "python3",
      "display_name": "Python 3"
    },
    "language_info": {
      "name": "python"
    }
  },
  "cells": [
    {
      "cell_type": "markdown",
      "source": [
        "### Installing all necessary dependencies"
      ],
      "metadata": {
        "id": "YT-fOw4tcPMa"
      }
    },
    {
      "cell_type": "code",
      "execution_count": null,
      "metadata": {
        "collapsed": true,
        "id": "VZyFwoyYN5Yq"
      },
      "outputs": [],
      "source": [
        "%pip install openai tiktoken langchain\n",
        "!python -m spacy download es_core_news_lg\n",
        "!pip install -q datasets"
      ]
    },
    {
      "cell_type": "markdown",
      "source": [
        "### Setup the environment data"
      ],
      "metadata": {
        "id": "Nh6wg9IDclO6"
      }
    },
    {
      "cell_type": "code",
      "source": [
        "from google.colab import userdata\n",
        "import os\n",
        "os.environ['OPENAI_API_KEY'] = \" \" # Your OpenAI API key"
      ],
      "metadata": {
        "id": "Ba2oj6OyOGV3"
      },
      "execution_count": null,
      "outputs": []
    },
    {
      "cell_type": "code",
      "source": [
        "import openai"
      ],
      "metadata": {
        "id": "8BNZtMmVOHr9"
      },
      "execution_count": null,
      "outputs": []
    },
    {
      "cell_type": "markdown",
      "source": [
        "### Preprocessing the dataset of news"
      ],
      "metadata": {
        "id": "usrRijK5OROj"
      }
    },
    {
      "cell_type": "code",
      "source": [
        "from datasets import load_dataset\n",
        "import spacy\n",
        "import datasets"
      ],
      "metadata": {
        "collapsed": true,
        "id": "-8MrfsMwOTFJ"
      },
      "execution_count": null,
      "outputs": []
    },
    {
      "cell_type": "code",
      "source": [
        "data = load_dataset(\"BrauuHdzM/Noticias-con-resumen\")"
      ],
      "metadata": {
        "id": "nKYSl0EvOXaJ"
      },
      "execution_count": null,
      "outputs": []
    },
    {
      "cell_type": "code",
      "source": [
        "nlp = spacy.load(\"es_core_news_lg\")"
      ],
      "metadata": {
        "id": "m31HtPN8PLhW"
      },
      "execution_count": null,
      "outputs": []
    },
    {
      "cell_type": "markdown",
      "source": [
        "Apply the format required by OpenAI:\n",
        "```\n",
        "{\n",
        "  \"messages\": [\n",
        "    { \"role\": \"system\", \"content\": \"You are an assistant that occasionally misspells words\" },\n",
        "    { \"role\": \"user\", \"content\": \"Tell me a story.\" },\n",
        "    { \"role\": \"assistant\", \"content\": \"One day a student went to schoool.\" }\n",
        "  ]\n",
        "}\n",
        "```"
      ],
      "metadata": {
        "id": "gVvWbmCoOnqf"
      }
    },
    {
      "cell_type": "code",
      "source": [
        "def extract_first_loc(text):\n",
        "    doc = nlp(text)\n",
        "    first_loc = next((ent.text for ent in doc.ents if ent.label_ == \"LOC\"), None) # Find the first entity of type LOC\n",
        "\n",
        "    return first_loc"
      ],
      "metadata": {
        "id": "F_56jEnmPO6X"
      },
      "execution_count": null,
      "outputs": []
    },
    {
      "cell_type": "code",
      "source": [
        "def formatear_ejemplo(example, system_message=None):\n",
        "    messages = []\n",
        "\n",
        "    if system_message:\n",
        "        messages.append({\n",
        "            \"role\": \"system\",\n",
        "            \"content\": system_message\n",
        "        })\n",
        "\n",
        "    if(extract_first_loc(example[\"Contenido\"])):\n",
        "          content = \"Crea un artículo de noticias con esta información: \" + example[\"resumen\"] + \". \" + \"Fecha: \" + example[\"Fecha\"] + \". Lugar: \" + extract_first_loc(example[\"Contenido\"])\n",
        "    else:\n",
        "          content = \"Crea un artículo de noticias con esta información: \" + example[\"resumen\"] + \". \" + \"Fecha: \" + example[\"Fecha\"]\n",
        "\n",
        "    message = {\n",
        "            \"role\": \"user\",\n",
        "            \"content\": content\n",
        "        }\n",
        "\n",
        "    messages.append(message)\n",
        "\n",
        "    if(extract_first_loc(example[\"Contenido\"])):\n",
        "          content = \"El \" + example[\"Fecha\"] +  \", en \" + extract_first_loc(example[\"Contenido\"]) + \". \" + example[\"Contenido\"]\n",
        "    else:\n",
        "          content = \"El \" + example[\"Fecha\"] +  \". \" + example[\"Contenido\"]\n",
        "\n",
        "    message = {\n",
        "            \"role\": \"assistant\",\n",
        "            \"content\": content\n",
        "        }\n",
        "\n",
        "    messages.append(message)\n",
        "\n",
        "    dict_final = {\n",
        "        \"messages\": messages\n",
        "    }\n",
        "\n",
        "    return dict_final"
      ],
      "metadata": {
        "id": "nQAdKECVPT6_"
      },
      "execution_count": null,
      "outputs": []
    },
    {
      "cell_type": "code",
      "source": [
        "train_dataset = data['train']"
      ],
      "metadata": {
        "id": "gA_3se10PrBC"
      },
      "execution_count": null,
      "outputs": []
    },
    {
      "cell_type": "code",
      "source": [
        "system_message = 'Tu tarea es escribir artículos de noticia que contengan siempre una fecha, un lugar y un acontecimiento. No puedes inventar información que no se te da, utiliza lenguaje formal.'\n",
        "\n",
        "dataset = []\n",
        "ejemplo = []"
      ],
      "metadata": {
        "id": "-EGTuEiQP8n2"
      },
      "execution_count": null,
      "outputs": []
    },
    {
      "cell_type": "code",
      "source": [
        "for elemento in train_dataset:\n",
        "  ejemplo_formateado = formatear_ejemplo(elemento, system_message=system_message)\n",
        "  dataset.append(ejemplo_formateado)"
      ],
      "metadata": {
        "id": "iEb6_ZvJdStz"
      },
      "execution_count": null,
      "outputs": []
    },
    {
      "cell_type": "markdown",
      "source": [
        "### Validate format, errors, and estimate price"
      ],
      "metadata": {
        "id": "VURYiWtAQJsu"
      }
    },
    {
      "cell_type": "code",
      "source": [
        "# Format error checks\n",
        "from collections import defaultdict\n",
        "format_errors = defaultdict(int)\n",
        "\n",
        "for ex in dataset:\n",
        "    if not isinstance(ex, dict):\n",
        "        format_errors[\"data_type\"] += 1\n",
        "        continue\n",
        "\n",
        "    messages = ex.get(\"messages\", None)\n",
        "    if not messages:\n",
        "        format_errors[\"missing_messages_list\"] += 1\n",
        "        continue\n",
        "\n",
        "    for message in messages:\n",
        "        if \"role\" not in message or \"content\" not in message:\n",
        "            format_errors[\"message_missing_key\"] += 1\n",
        "\n",
        "        if any(k not in (\"role\", \"content\", \"name\") for k in message):\n",
        "            format_errors[\"message_unrecognized_key\"] += 1\n",
        "\n",
        "        if message.get(\"role\", None) not in (\"system\", \"user\", \"assistant\"):\n",
        "            format_errors[\"unrecognized_role\"] += 1\n",
        "\n",
        "        content = message.get(\"content\", None)\n",
        "        if not content or not isinstance(content, str):\n",
        "            format_errors[\"missing_content\"] += 1\n",
        "\n",
        "    if not any(message.get(\"role\", None) == \"assistant\" for message in messages):\n",
        "        format_errors[\"example_missing_assistant_message\"] += 1\n",
        "\n",
        "if format_errors:\n",
        "    print(\"Found errors:\")\n",
        "    for k, v in format_errors.items():\n",
        "        print(f\"{k}: {v}\")\n",
        "else:\n",
        "    print(\"No errors found\")"
      ],
      "metadata": {
        "id": "UXFswttBQPJA"
      },
      "execution_count": null,
      "outputs": []
    },
    {
      "cell_type": "code",
      "source": [
        "import tiktoken\n",
        "import numpy as np\n",
        "encoding = tiktoken.get_encoding(\"cl100k_base\")\n",
        "\n",
        "# not exact!\n",
        "# simplified from https://github.com/openai/openai-cookbook/blob/main/examples/How_to_count_tokens_with_tiktoken.ipynb\n",
        "def num_tokens_from_messages(messages, tokens_per_message=3, tokens_per_name=1):\n",
        "    num_tokens = 0\n",
        "    for message in messages:\n",
        "        num_tokens += tokens_per_message\n",
        "        for key, value in message.items():\n",
        "            num_tokens += len(encoding.encode(value))\n",
        "            if key == \"name\":\n",
        "                num_tokens += tokens_per_name\n",
        "    num_tokens += 3\n",
        "    return num_tokens\n",
        "\n",
        "def num_assistant_tokens_from_messages(messages):\n",
        "    num_tokens = 0\n",
        "    for message in messages:\n",
        "        if message[\"role\"] == \"assistant\":\n",
        "            num_tokens += len(encoding.encode(message[\"content\"]))\n",
        "    return num_tokens\n",
        "\n",
        "def print_distribution(values, name):\n",
        "    print(f\"\\n#### Distribución de {name}:\")\n",
        "    print(f\"min / max: {min(values)}, {max(values)}\")\n",
        "    print(f\"media / mediana: {np.mean(values)}, {np.median(values)}\")\n",
        "    print(f\"p5 / p95: {np.quantile(values, 0.1)}, {np.quantile(values, 0.9)}\")\n"
      ],
      "metadata": {
        "id": "IjQ-FOMCQRrH"
      },
      "execution_count": null,
      "outputs": []
    },
    {
      "cell_type": "code",
      "source": [
        "# Last, we can look at the results of the different formatting operations before proceeding with creating a fine-tuning job:\n",
        "\n",
        "# Warnings and tokens counts\n",
        "n_missing_system = 0\n",
        "n_missing_user = 0\n",
        "n_messages = []\n",
        "convo_lens = []\n",
        "assistant_message_lens = []\n",
        "\n",
        "for ex in dataset:\n",
        "    messages = ex[\"messages\"]\n",
        "    if not any(message[\"role\"] == \"system\" for message in messages):\n",
        "        n_missing_system += 1\n",
        "    if not any(message[\"role\"] == \"user\" for message in messages):\n",
        "        n_missing_user += 1\n",
        "    n_messages.append(len(messages))\n",
        "    convo_lens.append(num_tokens_from_messages(messages))\n",
        "    assistant_message_lens.append(num_assistant_tokens_from_messages(messages))\n",
        "\n",
        "print(\"Num de ejemplos sin el system message:\", n_missing_system)\n",
        "print(\"Num de ejemplos sin el user message:\", n_missing_user)\n",
        "print_distribution(n_messages, \"num_mensajes_por_ejemplo\")\n",
        "print_distribution(convo_lens, \"num_total_tokens_por_ejemplo\")\n",
        "print_distribution(assistant_message_lens, \"num_assistant_tokens_por_ejemplo\")\n",
        "n_too_long = sum(l > 4096 for l in convo_lens)\n",
        "print(f\"\\n{n_too_long} ejemplos que excedan el límite de tokenes de 4096, ellos serán truncados durante el fine-tuning\")\n"
      ],
      "metadata": {
        "id": "GbfSCkB-QTlG"
      },
      "execution_count": null,
      "outputs": []
    },
    {
      "cell_type": "code",
      "source": [
        "# Pricing and default n_epochs estimate\n",
        "MAX_TOKENS_PER_EXAMPLE = 4096\n",
        "\n",
        "MIN_TARGET_EXAMPLES = 100\n",
        "MAX_TARGET_EXAMPLES = 25000\n",
        "TARGET_EPOCHS = 4\n",
        "MIN_EPOCHS = 1\n",
        "MAX_EPOCHS = 25\n",
        "\n",
        "n_epochs = TARGET_EPOCHS\n",
        "n_train_examples = len(dataset)\n",
        "if n_train_examples * TARGET_EPOCHS < MIN_TARGET_EXAMPLES:\n",
        "    n_epochs = min(MAX_EPOCHS, MIN_TARGET_EXAMPLES // n_train_examples)\n",
        "elif n_train_examples * TARGET_EPOCHS > MAX_TARGET_EXAMPLES:\n",
        "    n_epochs = max(MIN_EPOCHS, MAX_TARGET_EXAMPLES // n_train_examples)\n",
        "\n",
        "n_billing_tokens_in_dataset = sum(min(MAX_TOKENS_PER_EXAMPLE, length) for length in convo_lens)\n",
        "print(f\"El conjunto de datos tiene ~{n_billing_tokens_in_dataset} tokens que serán cargados durante el entrenamiento\")\n",
        "print(f\"Por defecto, entrenarás para {n_epochs} epochs en este conjunto de datos\")\n",
        "print(f\"Por defecto, serás cargado con ~{n_epochs * n_billing_tokens_in_dataset} tokens\")\n",
        "print(\"Revisa la página para estimar el costo total\")"
      ],
      "metadata": {
        "id": "Lz7VahFNQWoE"
      },
      "execution_count": null,
      "outputs": []
    },
    {
      "cell_type": "markdown",
      "source": [
        "### We save the data formatted in JSONL"
      ],
      "metadata": {
        "id": "ka_WG-GpQqMt"
      }
    },
    {
      "cell_type": "code",
      "source": [
        "import json\n",
        "\n",
        "def save_to_jsonl(dataset, file_path):\n",
        "    with open(file_path, 'w') as file:\n",
        "        for ejemplo in dataset:\n",
        "            json_line = json.dumps(ejemplo, ensure_ascii=False)\n",
        "            file.write(json_line + '\\n')"
      ],
      "metadata": {
        "id": "EkoyXvw7QtTW"
      },
      "execution_count": null,
      "outputs": []
    },
    {
      "cell_type": "code",
      "source": [
        "save_to_jsonl(dataset, 'noticias-100-resumen.jsonl')"
      ],
      "metadata": {
        "id": "Uqb0Rzv-QxYK"
      },
      "execution_count": null,
      "outputs": []
    },
    {
      "cell_type": "markdown",
      "source": [
        "### Create a request to perform Fine Tuning\n"
      ],
      "metadata": {
        "id": "LCWrOqfzRBxZ"
      }
    },
    {
      "cell_type": "code",
      "source": [
        "from openai import OpenAI\n",
        "client = OpenAI()\n",
        "\n",
        "train_full_response_file = client.files.create(\n",
        "  file=open(\"noticias-100-resumen.jsonl\", \"rb\"),\n",
        "  purpose=\"fine-tune\"\n",
        ")\n",
        "\n",
        "print(f'id: {train_full_response_file.id}')"
      ],
      "metadata": {
        "id": "0xOSJT8QQ397"
      },
      "execution_count": null,
      "outputs": []
    },
    {
      "cell_type": "code",
      "source": [
        "response = client.fine_tuning.jobs.create(training_file=train_full_response_file.id,\n",
        "                                       model=\"gpt-3.5-turbo\", # Check all the models available\n",
        "                                       suffix=' ', # Add a suffix to the model name\n",
        "                                       hyperparameters={'n_epochs':4}) # Put the number of epochs"
      ],
      "metadata": {
        "id": "-SxBY_1JRITn"
      },
      "execution_count": null,
      "outputs": []
    },
    {
      "cell_type": "code",
      "source": [
        "response"
      ],
      "metadata": {
        "id": "L5IYML2oRMqU"
      },
      "execution_count": null,
      "outputs": []
    }
  ]
}